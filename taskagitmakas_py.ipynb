{
  "nbformat": 4,
  "nbformat_minor": 0,
  "metadata": {
    "colab": {
      "provenance": [],
      "authorship_tag": "ABX9TyPITpDsc52gDI/hGhX2G663",
      "include_colab_link": true
    },
    "kernelspec": {
      "name": "python3",
      "display_name": "Python 3"
    },
    "language_info": {
      "name": "python"
    }
  },
  "cells": [
    {
      "cell_type": "markdown",
      "metadata": {
        "id": "view-in-github",
        "colab_type": "text"
      },
      "source": [
        "<a href=\"https://colab.research.google.com/github/simgeg/python_taskagitmakas/blob/main/taskagitmakas_py.ipynb\" target=\"_parent\"><img src=\"https://colab.research.google.com/assets/colab-badge.svg\" alt=\"Open In Colab\"/></a>"
      ]
    },
    {
      "cell_type": "code",
      "execution_count": null,
      "metadata": {
        "id": "q3taONU_MW-8"
      },
      "outputs": [],
      "source": [
        "def tas_kagit_makas_SİMGE_GUNGOR():\n",
        "  import random\n",
        "\n",
        "print(\"Taş Kağıt Makas Oyununa Hoş Geldiniz!\")\n",
        "print(\"Makas kağıdı keser, kağıt taşı sarar, taş ise makası kırar. İki tur kazanan oyunun galibi olur.\")\n",
        "print(\"Çıkmak için 'q', oyun sonunda tekrar oynamak isterseniz 'evet' yazabilirsiniz. İyi eğlenceler!\")\n",
        "secenekler = [\"taş\", \"kağıt\", \"makas\"]\n",
        "oyuncu_tur_skoru = 0\n",
        "bilgisayar_tur_skoru = 0\n",
        "tur = 1\n",
        "oyun = 0\n",
        "while True:\n",
        "    oyuncu_skoru = 0\n",
        "    bilgisayar_skoru = 0\n",
        "    while oyuncu_skoru < 2 and bilgisayar_skoru < 2:\n",
        "        oyun += 1\n",
        "        secim = input(\"\\nTaş mı Kağıt mı Makas mı? : \").lower()\n",
        "        if secim == 'q':\n",
        "            print(\"Oyun sona erdi.\")\n",
        "            break\n",
        "        if secim not in secenekler:\n",
        "            print(\"Geçersiz bir seçim yaptınız. Lütfen tekrar deneyin.\")\n",
        "            continue\n",
        "\n",
        "        bilgisayar_secimi = random.choice(secenekler)\n",
        "        print(f\"Bilgisayarın seçimi: {bilgisayar_secimi}\")\n",
        "\n",
        "        if secim == bilgisayar_secimi:\n",
        "            print(\"Beraberlik!\")\n",
        "        elif (secim == \"taş\" and bilgisayar_secimi == \"makas\") or \\\n",
        "                (secim == \"kağıt\" and bilgisayar_secimi == \"taş\") or \\\n",
        "                (secim == \"makas\" and bilgisayar_secimi == \"kağıt\"):\n",
        "            print(\"Kazandınız!\")\n",
        "            oyuncu_skoru += 1\n",
        "        else:\n",
        "            print(\"Kaybettiniz.\")\n",
        "            bilgisayar_skoru += 1\n",
        "\n",
        "        print(\"** Tur: \", tur, \" | Oyun: \", oyun, \" **\")\n",
        "        print(\"Sizin puanınız: \", oyuncu_skoru, \"  -  Bilgisayarın puanı:\", bilgisayar_skoru)\n",
        "\n",
        "    if oyuncu_skoru == 2:\n",
        "        print(\"### \\nTebrikler, oyunu kazandınız! \\n###\")\n",
        "        oyuncu_tur_skoru += 1\n",
        "    else:\n",
        "        print(\"### \\nKaybettiniz. Bilgisayar oyunu kazandı. \\n###\")\n",
        "        bilgisayar_tur_skoru += 1\n",
        "\n",
        "    print(\"GENEL SKOR\\n\", \"Siz: \", oyuncu_tur_skoru, \" | Bilgisayar: \", bilgisayar_tur_skoru)\n",
        "\n",
        "    devam = input(\"\\nTekrar oynamak ister misiniz? (evet/q): \").lower()\n",
        "\n",
        "    bilgisayar_devam = random.choice(['evet', 'hayır'])\n",
        "\n",
        "    if devam != 'evet':\n",
        "        print(\"Oyun bitti. Oynadığınız için teşekkürler!\")\n",
        "        break\n",
        "    elif bilgisayar_devam == 'hayır':\n",
        "        print(\"Bilgisayar oynamak istemiyor. Oynadığınız için teşekkürler!\")\n",
        "        break\n",
        "    else:\n",
        "        tur += 1\n",
        "        oyun = 0\n",
        "        print(\"Yeni bir oyuna başlıyoruz!\\n\")\n",
        "tas_kagit_makas_SİMGE_GUNGOR()"
      ]
    }
  ]
}